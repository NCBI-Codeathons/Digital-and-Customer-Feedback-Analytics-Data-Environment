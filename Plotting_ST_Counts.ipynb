{
 "cells": [
  {
   "cell_type": "markdown",
   "metadata": {},
   "source": [
    "This notebook plots the top UMLS semantic types and groups that are represented in search queries from users on a web site. It takes the output from the process that queries NLM's Metamap (https://metamap.nlm.nih.gov/) which maps search queries from end-users to UMLS Semantic Terms. It also uses a lookup table to map the semantic terms to semantic groups.\n",
    "\n",
    "*Coded by: VCid, NLM Codeathon, October 2019*"
   ]
  },
  {
   "cell_type": "markdown",
   "metadata": {},
   "source": [
    "# Reading the input Metamap data"
   ]
  },
  {
   "cell_type": "code",
   "execution_count": 1,
   "metadata": {},
   "outputs": [],
   "source": [
    "import pandas as pd\n",
    "import matplotlib.pyplot as plt\n",
    "%matplotlib inline"
   ]
  },
  {
   "cell_type": "markdown",
   "metadata": {},
   "source": [
    "The input file is the output from the process that queries MetaMap with search terms. It should look like:\n",
    "\n",
    "```\n",
    "text_000N_50478|MMI|124.36|Medical Subject Headings|C1135584|[inpr]|[\"MeSH\"-tx-1-\"mesh\"-noun-0,\"MeSH Headings\"-tx-1-\"mesh headings\"-noun-0]|TX|[523/4],[826/4],[1008/4],[1503/4],[1978/4];653/4,751/8|L01.453.245.945.700.500\n",
    "text_000N_50478|MMI|100.68|GDF15 protein, human|C1431343|[aapp,bacs]|[\"PDF\"-tx-1-\"pdf\"-noun-0]|TX|[29/3],[150/3],[590/3],[1087/3],[1356/3],[1560/3],[1934/3]|x.x.x.x\n",
    "text_000N_50478|MMI|79.67|Penicillin G|C0030827|[antb,orch]|[\"penicillin\"-tx-1-\"penicillin\"-noun-0]|TX|[461/10],[570/10],[772/10],[1309/10]|D02.065.589.099.750.750;D02.886.108.750.750;D03.633.100.300.750.750\n",
    "text_000N_50478|MMI|69.61|Yellow color|C0221205|[qlco]|[\"YELLOW\"-tx-1-\"yellow\"-adj-0]|TX|[12/6],[37/6],[547/6],[624/6],[877/6],[1169/6],[1251/6],[1329/6],[1449/6],[1543/6],[1733/6],[1917/6]|\n",
    "text_000N_50478|MMI|58.09|Homo sapiens|C0086418|[humn]|[\"Human\"-tx-1-\"human\"-noun-0]|TX|[415/5],[859/5]|B01.050.150.900.649.313.988.400.112.400.400\n",
    "text_000N_50478|MMI|51.41|Hippocratic Oath|C0019565|[rnlw]|[\"Hippocratic Oath\"-tx-1-\"hippocratic oath\"-noun-0]|TX|[61/16],[390/16]|K01.752.566.479.068.400;K01.752.566.479.171.132.750.551;N05.350.213.400;N05.350.340.162.500.500\n",
    "```"
   ]
  },
  {
   "cell_type": "code",
   "execution_count": 2,
   "metadata": {},
   "outputs": [],
   "source": [
    "input_file = 'data/input_data.txt' # Change this filename to something else if needed"
   ]
  },
  {
   "cell_type": "markdown",
   "metadata": {},
   "source": [
    "The output files are CSV files that contain the number of times Semantic types and semantic groups were seen in the input data."
   ]
  },
  {
   "cell_type": "code",
   "execution_count": 3,
   "metadata": {},
   "outputs": [],
   "source": [
    "SToutput_file = 'data/semantic_type_counts_output.txt'   # Semantic types counts\n",
    "SGoutput_file = 'data/semantic_group_counts_output.txt'  # Semantic groups counts"
   ]
  },
  {
   "cell_type": "markdown",
   "metadata": {},
   "source": [
    "The following are lookup tables used to translate UMLS Semantic Terms into readable text and for mapping them to UMLS Semantic groups"
   ]
  },
  {
   "cell_type": "code",
   "execution_count": 4,
   "metadata": {},
   "outputs": [
    {
     "name": "stdout",
     "output_type": "stream",
     "text": [
      "Records read: 73\n",
      "Terms found: 82\n"
     ]
    }
   ],
   "source": [
    "rec_count = 0  # number of records read\n",
    "terms_count = 0  # number of UMLS terms found in the records\n",
    "# ST_string = \"\"\n",
    "data_df = pd.DataFrame(columns=['query', 'UMLS_ST'])\n",
    "with open(input_file) as fp:\n",
    "    for line in fp:\n",
    "        rec_count += 1\n",
    "        elems = line.rstrip().split('|')\n",
    "        query = elems[6]\n",
    "        ST_string = elems[5]\n",
    "        ST_string = ST_string.replace(\"[\", \"\")\n",
    "        ST_string = ST_string.replace(\"]\", \"\")\n",
    "        ST_list = ST_string.split(\",\")\n",
    "        for elem in ST_list:\n",
    "            terms_count += 1\n",
    "            data_df.loc[len(data_df)] = [query, elem]\n",
    "print('Records read: {}'.format(rec_count))\n",
    "print('Terms found: {}'.format(terms_count))\n"
   ]
  },
  {
   "cell_type": "code",
   "execution_count": 5,
   "metadata": {
    "scrolled": true
   },
   "outputs": [
    {
     "data": {
      "text/html": [
       "<div>\n",
       "<style scoped>\n",
       "    .dataframe tbody tr th:only-of-type {\n",
       "        vertical-align: middle;\n",
       "    }\n",
       "\n",
       "    .dataframe tbody tr th {\n",
       "        vertical-align: top;\n",
       "    }\n",
       "\n",
       "    .dataframe thead th {\n",
       "        text-align: right;\n",
       "    }\n",
       "</style>\n",
       "<table border=\"1\" class=\"dataframe\">\n",
       "  <thead>\n",
       "    <tr style=\"text-align: right;\">\n",
       "      <th></th>\n",
       "      <th>query</th>\n",
       "      <th>UMLS_ST</th>\n",
       "    </tr>\n",
       "  </thead>\n",
       "  <tbody>\n",
       "    <tr>\n",
       "      <td>0</td>\n",
       "      <td>[\"PubMed\"-tx-1-\"pubmed\"-noun-0]</td>\n",
       "      <td>inpr</td>\n",
       "    </tr>\n",
       "    <tr>\n",
       "      <td>1</td>\n",
       "      <td>[\"NLM\"-tx-1-\"nlm\"-noun-0,\"National Library of ...</td>\n",
       "      <td>hcro</td>\n",
       "    </tr>\n",
       "    <tr>\n",
       "      <td>2</td>\n",
       "      <td>[\"MEDLINE\"-tx-1-\"medline\"-noun-0]</td>\n",
       "      <td>inpr</td>\n",
       "    </tr>\n",
       "    <tr>\n",
       "      <td>3</td>\n",
       "      <td>[\"NIH\"-tx-1-\"nih\"-noun-0]</td>\n",
       "      <td>hcro</td>\n",
       "    </tr>\n",
       "    <tr>\n",
       "      <td>4</td>\n",
       "      <td>[\"MeSH\"-tx-1-\"mesh\"-noun-0,\"MeSH Headings\"-tx-...</td>\n",
       "      <td>inpr</td>\n",
       "    </tr>\n",
       "  </tbody>\n",
       "</table>\n",
       "</div>"
      ],
      "text/plain": [
       "                                               query UMLS_ST\n",
       "0                    [\"PubMed\"-tx-1-\"pubmed\"-noun-0]    inpr\n",
       "1  [\"NLM\"-tx-1-\"nlm\"-noun-0,\"National Library of ...    hcro\n",
       "2                  [\"MEDLINE\"-tx-1-\"medline\"-noun-0]    inpr\n",
       "3                          [\"NIH\"-tx-1-\"nih\"-noun-0]    hcro\n",
       "4  [\"MeSH\"-tx-1-\"mesh\"-noun-0,\"MeSH Headings\"-tx-...    inpr"
      ]
     },
     "execution_count": 5,
     "metadata": {},
     "output_type": "execute_result"
    }
   ],
   "source": [
    "data_df.head()"
   ]
  },
  {
   "cell_type": "markdown",
   "metadata": {},
   "source": [
    "Notice that each dataframe record has the query used as input to Metamap (not used in this code) and the abreviation of the UMLS Semantic Type that Metamap associated to that query. There is one record per UMLS semantic query--if Metamap associated more than one UMLS ST to the same query, then there will be multiple records for the same query."
   ]
  },
  {
   "cell_type": "markdown",
   "metadata": {},
   "source": [
    "# Counting UMLS Semantic Type frequencies"
   ]
  },
  {
   "cell_type": "code",
   "execution_count": 6,
   "metadata": {},
   "outputs": [],
   "source": [
    "summary = data_df.groupby('UMLS_ST').count()"
   ]
  },
  {
   "cell_type": "markdown",
   "metadata": {},
   "source": [
    "Renaming the query column to what it has become: counts"
   ]
  },
  {
   "cell_type": "code",
   "execution_count": 7,
   "metadata": {},
   "outputs": [],
   "source": [
    "summary.rename(columns={\"query\": \"count\"}, inplace=True)"
   ]
  },
  {
   "cell_type": "markdown",
   "metadata": {},
   "source": [
    "Sorting by counts in descending order"
   ]
  },
  {
   "cell_type": "code",
   "execution_count": 8,
   "metadata": {},
   "outputs": [],
   "source": [
    "sum_sorted = summary.sort_values('count', ascending=False)"
   ]
  },
  {
   "cell_type": "markdown",
   "metadata": {},
   "source": [
    "Now the dataframe has the number of times each abreviation was seen in the data"
   ]
  },
  {
   "cell_type": "code",
   "execution_count": 9,
   "metadata": {},
   "outputs": [
    {
     "data": {
      "text/html": [
       "<div>\n",
       "<style scoped>\n",
       "    .dataframe tbody tr th:only-of-type {\n",
       "        vertical-align: middle;\n",
       "    }\n",
       "\n",
       "    .dataframe tbody tr th {\n",
       "        vertical-align: top;\n",
       "    }\n",
       "\n",
       "    .dataframe thead th {\n",
       "        text-align: right;\n",
       "    }\n",
       "</style>\n",
       "<table border=\"1\" class=\"dataframe\">\n",
       "  <thead>\n",
       "    <tr style=\"text-align: right;\">\n",
       "      <th></th>\n",
       "      <th>count</th>\n",
       "    </tr>\n",
       "    <tr>\n",
       "      <th>UMLS_ST</th>\n",
       "      <th></th>\n",
       "    </tr>\n",
       "  </thead>\n",
       "  <tbody>\n",
       "    <tr>\n",
       "      <td>inpr</td>\n",
       "      <td>20</td>\n",
       "    </tr>\n",
       "    <tr>\n",
       "      <td>mnob</td>\n",
       "      <td>8</td>\n",
       "    </tr>\n",
       "    <tr>\n",
       "      <td>aapp</td>\n",
       "      <td>4</td>\n",
       "    </tr>\n",
       "    <tr>\n",
       "      <td>orgt</td>\n",
       "      <td>4</td>\n",
       "    </tr>\n",
       "    <tr>\n",
       "      <td>ftcn</td>\n",
       "      <td>3</td>\n",
       "    </tr>\n",
       "    <tr>\n",
       "      <td>qlco</td>\n",
       "      <td>3</td>\n",
       "    </tr>\n",
       "    <tr>\n",
       "      <td>popg</td>\n",
       "      <td>3</td>\n",
       "    </tr>\n",
       "    <tr>\n",
       "      <td>hcro</td>\n",
       "      <td>3</td>\n",
       "    </tr>\n",
       "    <tr>\n",
       "      <td>idcn</td>\n",
       "      <td>3</td>\n",
       "    </tr>\n",
       "    <tr>\n",
       "      <td>topp</td>\n",
       "      <td>2</td>\n",
       "    </tr>\n",
       "  </tbody>\n",
       "</table>\n",
       "</div>"
      ],
      "text/plain": [
       "         count\n",
       "UMLS_ST       \n",
       "inpr        20\n",
       "mnob         8\n",
       "aapp         4\n",
       "orgt         4\n",
       "ftcn         3\n",
       "qlco         3\n",
       "popg         3\n",
       "hcro         3\n",
       "idcn         3\n",
       "topp         2"
      ]
     },
     "execution_count": 9,
     "metadata": {},
     "output_type": "execute_result"
    }
   ],
   "source": [
    "sum_sorted.iloc[:10]"
   ]
  },
  {
   "cell_type": "markdown",
   "metadata": {},
   "source": [
    "# Plotting UMLS Semantic Type counts"
   ]
  },
  {
   "cell_type": "code",
   "execution_count": 10,
   "metadata": {},
   "outputs": [],
   "source": [
    "plt.style.use('ggplot')"
   ]
  },
  {
   "cell_type": "code",
   "execution_count": 11,
   "metadata": {},
   "outputs": [
    {
     "data": {
      "image/png": "[encoded data removed]",
      "text/plain": [
       "<Figure size 504x864 with 1 Axes>"
      ]
     },
     "metadata": {},
     "output_type": "display_data"
    }
   ],
   "source": [
    "fig, ax = plt.subplots(figsize=(7,12))\n",
    "sum_sorted.plot(kind='barh', legend = False, ax=ax)\n",
    "ax.set_xlabel('Count')\n",
    "ax.set_ylabel('UMLS Semantic Type')\n",
    "ax.invert_yaxis()"
   ]
  },
  {
   "cell_type": "markdown",
   "metadata": {},
   "source": [
    "Plotting only the top 5"
   ]
  },
  {
   "cell_type": "code",
   "execution_count": 12,
   "metadata": {},
   "outputs": [
    {
     "data": {
      "text/plain": [
       "[Text(0.5, 0, 'Counts')]"
      ]
     },
     "execution_count": 12,
     "metadata": {},
     "output_type": "execute_result"
    },
    {
     "data": {
      "image/png": "[encoded data removed]",
      "text/plain": [
       "<Figure size 432x288 with 1 Axes>"
      ]
     },
     "metadata": {},
     "output_type": "display_data"
    }
   ],
   "source": [
    "top_n = 5  # change this number to whaever is convenient\n",
    "\n",
    "p = sum_sorted.iloc[:top_n].plot(kind='barh', legend = False);\n",
    "p.invert_yaxis()\n",
    "p.set(ylabel='UMLS Semantic Type')\n",
    "p.set(xlabel='Counts')"
   ]
  },
  {
   "cell_type": "markdown",
   "metadata": {},
   "source": [
    "# Mapping UMLS ST Abreviations to UMLS ST Names"
   ]
  },
  {
   "cell_type": "code",
   "execution_count": 13,
   "metadata": {},
   "outputs": [],
   "source": [
    "lookup_table = 'data/umls_semantic_types.csv'"
   ]
  },
  {
   "cell_type": "code",
   "execution_count": 14,
   "metadata": {},
   "outputs": [],
   "source": [
    "mycolumns=['index', 'TUI', 'abbr', 'name']\n",
    "maptable_df = pd.read_csv(lookup_table, index_col=0, names=mycolumns)"
   ]
  },
  {
   "cell_type": "code",
   "execution_count": 15,
   "metadata": {},
   "outputs": [
    {
     "data": {
      "text/html": [
       "<div>\n",
       "<style scoped>\n",
       "    .dataframe tbody tr th:only-of-type {\n",
       "        vertical-align: middle;\n",
       "    }\n",
       "\n",
       "    .dataframe tbody tr th {\n",
       "        vertical-align: top;\n",
       "    }\n",
       "\n",
       "    .dataframe thead th {\n",
       "        text-align: right;\n",
       "    }\n",
       "</style>\n",
       "<table border=\"1\" class=\"dataframe\">\n",
       "  <thead>\n",
       "    <tr style=\"text-align: right;\">\n",
       "      <th></th>\n",
       "      <th>TUI</th>\n",
       "      <th>abbr</th>\n",
       "      <th>name</th>\n",
       "    </tr>\n",
       "    <tr>\n",
       "      <th>index</th>\n",
       "      <th></th>\n",
       "      <th></th>\n",
       "      <th></th>\n",
       "    </tr>\n",
       "  </thead>\n",
       "  <tbody>\n",
       "    <tr>\n",
       "      <td>aapp</td>\n",
       "      <td>T116</td>\n",
       "      <td>aapp</td>\n",
       "      <td>Amino Acid, Peptide, or Protein</td>\n",
       "    </tr>\n",
       "    <tr>\n",
       "      <td>acab</td>\n",
       "      <td>T020</td>\n",
       "      <td>acab</td>\n",
       "      <td>Acquired Abnormality</td>\n",
       "    </tr>\n",
       "    <tr>\n",
       "      <td>acty</td>\n",
       "      <td>T052</td>\n",
       "      <td>acty</td>\n",
       "      <td>Activity</td>\n",
       "    </tr>\n",
       "    <tr>\n",
       "      <td>aggp</td>\n",
       "      <td>T100</td>\n",
       "      <td>aggp</td>\n",
       "      <td>Age Group</td>\n",
       "    </tr>\n",
       "    <tr>\n",
       "      <td>amas</td>\n",
       "      <td>T087</td>\n",
       "      <td>amas</td>\n",
       "      <td>Amino Acid Sequence</td>\n",
       "    </tr>\n",
       "  </tbody>\n",
       "</table>\n",
       "</div>"
      ],
      "text/plain": [
       "        TUI  abbr                             name\n",
       "index                                             \n",
       "aapp   T116  aapp  Amino Acid, Peptide, or Protein\n",
       "acab   T020  acab             Acquired Abnormality\n",
       "acty   T052  acty                         Activity\n",
       "aggp   T100  aggp                        Age Group\n",
       "amas   T087  amas              Amino Acid Sequence"
      ]
     },
     "execution_count": 15,
     "metadata": {},
     "output_type": "execute_result"
    }
   ],
   "source": [
    "maptable_df.head()"
   ]
  },
  {
   "cell_type": "code",
   "execution_count": 16,
   "metadata": {},
   "outputs": [
    {
     "data": {
      "text/plain": [
       "'Activity'"
      ]
     },
     "execution_count": 16,
     "metadata": {},
     "output_type": "execute_result"
    }
   ],
   "source": [
    "maptable_df.loc['acty', 'name']"
   ]
  },
  {
   "cell_type": "code",
   "execution_count": 17,
   "metadata": {},
   "outputs": [],
   "source": [
    "for index, row in sum_sorted.iterrows():\n",
    "    #print(index, row[0])\n",
    "    sum_sorted.loc[index, 'name'] = maptable_df.loc[index, 'name']"
   ]
  },
  {
   "cell_type": "code",
   "execution_count": 18,
   "metadata": {},
   "outputs": [
    {
     "data": {
      "text/html": [
       "<div>\n",
       "<style scoped>\n",
       "    .dataframe tbody tr th:only-of-type {\n",
       "        vertical-align: middle;\n",
       "    }\n",
       "\n",
       "    .dataframe tbody tr th {\n",
       "        vertical-align: top;\n",
       "    }\n",
       "\n",
       "    .dataframe thead th {\n",
       "        text-align: right;\n",
       "    }\n",
       "</style>\n",
       "<table border=\"1\" class=\"dataframe\">\n",
       "  <thead>\n",
       "    <tr style=\"text-align: right;\">\n",
       "      <th></th>\n",
       "      <th>count</th>\n",
       "      <th>name</th>\n",
       "    </tr>\n",
       "    <tr>\n",
       "      <th>UMLS_ST</th>\n",
       "      <th></th>\n",
       "      <th></th>\n",
       "    </tr>\n",
       "  </thead>\n",
       "  <tbody>\n",
       "    <tr>\n",
       "      <td>inpr</td>\n",
       "      <td>20</td>\n",
       "      <td>Intellectual Product</td>\n",
       "    </tr>\n",
       "    <tr>\n",
       "      <td>mnob</td>\n",
       "      <td>8</td>\n",
       "      <td>Manufactured Object</td>\n",
       "    </tr>\n",
       "    <tr>\n",
       "      <td>aapp</td>\n",
       "      <td>4</td>\n",
       "      <td>Amino Acid, Peptide, or Protein</td>\n",
       "    </tr>\n",
       "    <tr>\n",
       "      <td>orgt</td>\n",
       "      <td>4</td>\n",
       "      <td>Organization</td>\n",
       "    </tr>\n",
       "    <tr>\n",
       "      <td>ftcn</td>\n",
       "      <td>3</td>\n",
       "      <td>Functional Concept</td>\n",
       "    </tr>\n",
       "  </tbody>\n",
       "</table>\n",
       "</div>"
      ],
      "text/plain": [
       "         count                             name\n",
       "UMLS_ST                                        \n",
       "inpr        20             Intellectual Product\n",
       "mnob         8              Manufactured Object\n",
       "aapp         4  Amino Acid, Peptide, or Protein\n",
       "orgt         4                     Organization\n",
       "ftcn         3               Functional Concept"
      ]
     },
     "execution_count": 18,
     "metadata": {},
     "output_type": "execute_result"
    }
   ],
   "source": [
    "sum_sorted.head()"
   ]
  },
  {
   "cell_type": "code",
   "execution_count": 19,
   "metadata": {
    "scrolled": true
   },
   "outputs": [
    {
     "name": "stdout",
     "output_type": "stream",
     "text": [
      "<class 'pandas.core.frame.DataFrame'>\n",
      "Index: 37 entries, inpr to clas\n",
      "Data columns (total 2 columns):\n",
      "count    37 non-null int64\n",
      "name     37 non-null object\n",
      "dtypes: int64(1), object(1)\n",
      "memory usage: 2.1+ KB\n"
     ]
    }
   ],
   "source": [
    "sum_sorted.info()"
   ]
  },
  {
   "cell_type": "markdown",
   "metadata": {},
   "source": [
    "# Saving UMLS Semantic Type frequency table\n",
    "\n",
    "The outout will be a simple CSV file that can be used for additional post-processing."
   ]
  },
  {
   "cell_type": "code",
   "execution_count": 20,
   "metadata": {},
   "outputs": [],
   "source": [
    "sum_sorted.to_csv(SToutput_file)"
   ]
  },
  {
   "cell_type": "markdown",
   "metadata": {},
   "source": [
    "The output format is:\n",
    "```\n",
    "UMLS_ST,count,name\n",
    "<UMLS semantic type abbreviation>, <count>, <UMLS semantic type name>\n",
    "<UMLS semantic type abbreviation>, <count>, <UMLS semantic type name>\n",
    "...\n",
    "```"
   ]
  },
  {
   "cell_type": "markdown",
   "metadata": {},
   "source": [
    "# Plotting UMLS Semantic Types frequencies, in descending order"
   ]
  },
  {
   "cell_type": "code",
   "execution_count": 21,
   "metadata": {
    "scrolled": true
   },
   "outputs": [
    {
     "data": {
      "image/png": "[encoded data removed]",
      "text/plain": [
       "<Figure size 504x864 with 1 Axes>"
      ]
     },
     "metadata": {},
     "output_type": "display_data"
    }
   ],
   "source": [
    "fig, ax = plt.subplots(figsize=(7,12))\n",
    "sum_sorted.plot(kind='barh', x='name', y='count', legend = False, ax=ax)\n",
    "ax.set_xlabel('Count')\n",
    "ax.set_ylabel('UMLS Semantic Type')\n",
    "ax.invert_yaxis()\n",
    "ax.set(title='UMLS Semantic Types represented in search queries\\n');"
   ]
  },
  {
   "cell_type": "markdown",
   "metadata": {},
   "source": [
    "**Note:** a single query can match multiple semantic types, therefore this chart can show more rows than queries."
   ]
  },
  {
   "cell_type": "markdown",
   "metadata": {},
   "source": [
    "Plotting only the top ones only"
   ]
  },
  {
   "cell_type": "code",
   "execution_count": 22,
   "metadata": {},
   "outputs": [
    {
     "data": {
      "image/png": "[encoded data removed]",
      "text/plain": [
       "<Figure size 432x288 with 1 Axes>"
      ]
     },
     "metadata": {},
     "output_type": "display_data"
    }
   ],
   "source": [
    "top_n = 5   # change this to the number you need\n",
    "\n",
    "#sum_sorted.iloc[:top_ones].plot.barh(y='query', legend=False)\n",
    "p = sum_sorted.iloc[:top_n].plot(kind='barh', x='name', y='count', legend = False);\n",
    "p.invert_yaxis()\n",
    "p.set(ylabel='UMLS Semantic Type')\n",
    "p.set(xlabel='Counts')\n",
    "p.set(title='Top {} UMLS Semantic Types represented in search queries\\n'.format(top_n));"
   ]
  },
  {
   "cell_type": "markdown",
   "metadata": {},
   "source": [
    "# Mapping UMLS Semantic Types to Groups"
   ]
  },
  {
   "cell_type": "markdown",
   "metadata": {},
   "source": [
    "Reading table that maps UMLS semantic types to semantic groups"
   ]
  },
  {
   "cell_type": "code",
   "execution_count": 23,
   "metadata": {},
   "outputs": [],
   "source": [
    "st2grp_mapping_file = 'data/UMLS_type_group_mapping.txt'"
   ]
  },
  {
   "cell_type": "code",
   "execution_count": 24,
   "metadata": {},
   "outputs": [],
   "source": [
    "st2grp_mapping_df = pd.read_csv(st2grp_mapping_file, sep='\\t')"
   ]
  },
  {
   "cell_type": "code",
   "execution_count": 25,
   "metadata": {},
   "outputs": [
    {
     "data": {
      "text/html": [
       "<div>\n",
       "<style scoped>\n",
       "    .dataframe tbody tr th:only-of-type {\n",
       "        vertical-align: middle;\n",
       "    }\n",
       "\n",
       "    .dataframe tbody tr th {\n",
       "        vertical-align: top;\n",
       "    }\n",
       "\n",
       "    .dataframe thead th {\n",
       "        text-align: right;\n",
       "    }\n",
       "</style>\n",
       "<table border=\"1\" class=\"dataframe\">\n",
       "  <thead>\n",
       "    <tr style=\"text-align: right;\">\n",
       "      <th></th>\n",
       "      <th>CustomTreeNumber</th>\n",
       "      <th>BranchPosition</th>\n",
       "      <th>SemanticType</th>\n",
       "      <th>UniqueID</th>\n",
       "      <th>SemanticGroupCode</th>\n",
       "      <th>SemanticGroup</th>\n",
       "      <th>SemanticGroupAbr</th>\n",
       "      <th>Definition</th>\n",
       "      <th>Examples</th>\n",
       "      <th>RelationName</th>\n",
       "      <th>SemTypeTreeNo</th>\n",
       "      <th>UsageNote</th>\n",
       "      <th>Abbreviation</th>\n",
       "      <th>NonHumanFlag</th>\n",
       "      <th>RecordType</th>\n",
       "      <th>TUI</th>\n",
       "    </tr>\n",
       "  </thead>\n",
       "  <tbody>\n",
       "    <tr>\n",
       "      <td>0</td>\n",
       "      <td>0</td>\n",
       "      <td>0.0</td>\n",
       "      <td>Unassigned</td>\n",
       "      <td>2000</td>\n",
       "      <td>20</td>\n",
       "      <td>Unassigned</td>\n",
       "      <td>Unassigned</td>\n",
       "      <td>NaN</td>\n",
       "      <td>NaN</td>\n",
       "      <td>NaN</td>\n",
       "      <td>NaN</td>\n",
       "      <td>NaN</td>\n",
       "      <td>NaN</td>\n",
       "      <td>NaN</td>\n",
       "      <td>NaN</td>\n",
       "      <td>NaN</td>\n",
       "    </tr>\n",
       "    <tr>\n",
       "      <td>1</td>\n",
       "      <td>0</td>\n",
       "      <td>0.0</td>\n",
       "      <td>Website-Specific</td>\n",
       "      <td>2001</td>\n",
       "      <td>21</td>\n",
       "      <td>Website-Specific</td>\n",
       "      <td>Website-Specific</td>\n",
       "      <td>NaN</td>\n",
       "      <td>NaN</td>\n",
       "      <td>NaN</td>\n",
       "      <td>NaN</td>\n",
       "      <td>NaN</td>\n",
       "      <td>NaN</td>\n",
       "      <td>NaN</td>\n",
       "      <td>NaN</td>\n",
       "      <td>NaN</td>\n",
       "    </tr>\n",
       "    <tr>\n",
       "      <td>2</td>\n",
       "      <td>0</td>\n",
       "      <td>0.0</td>\n",
       "      <td>Bibliographic Entity</td>\n",
       "      <td>2002</td>\n",
       "      <td>22</td>\n",
       "      <td>Bibliographic Entity</td>\n",
       "      <td>Bibliographic Entity</td>\n",
       "      <td>NaN</td>\n",
       "      <td>NaN</td>\n",
       "      <td>NaN</td>\n",
       "      <td>NaN</td>\n",
       "      <td>NaN</td>\n",
       "      <td>NaN</td>\n",
       "      <td>NaN</td>\n",
       "      <td>NaN</td>\n",
       "      <td>T301</td>\n",
       "    </tr>\n",
       "    <tr>\n",
       "      <td>3</td>\n",
       "      <td>0</td>\n",
       "      <td>0.0</td>\n",
       "      <td>Foreign unresolved</td>\n",
       "      <td>2003</td>\n",
       "      <td>23</td>\n",
       "      <td>Foreign unresolved</td>\n",
       "      <td>Foreign unresolved</td>\n",
       "      <td>NaN</td>\n",
       "      <td>NaN</td>\n",
       "      <td>NaN</td>\n",
       "      <td>NaN</td>\n",
       "      <td>NaN</td>\n",
       "      <td>NaN</td>\n",
       "      <td>NaN</td>\n",
       "      <td>NaN</td>\n",
       "      <td>NaN</td>\n",
       "    </tr>\n",
       "    <tr>\n",
       "      <td>4</td>\n",
       "      <td>0</td>\n",
       "      <td>0.0</td>\n",
       "      <td>Numeric ID</td>\n",
       "      <td>2004</td>\n",
       "      <td>24</td>\n",
       "      <td>Numeric ID</td>\n",
       "      <td>Numeric ID</td>\n",
       "      <td>NaN</td>\n",
       "      <td>NaN</td>\n",
       "      <td>NaN</td>\n",
       "      <td>NaN</td>\n",
       "      <td>NaN</td>\n",
       "      <td>NaN</td>\n",
       "      <td>NaN</td>\n",
       "      <td>NaN</td>\n",
       "      <td>T302</td>\n",
       "    </tr>\n",
       "    <tr>\n",
       "      <td>5</td>\n",
       "      <td>1</td>\n",
       "      <td>1.0</td>\n",
       "      <td>Entity</td>\n",
       "      <td>1071</td>\n",
       "      <td>10</td>\n",
       "      <td>Objects</td>\n",
       "      <td>OBJC</td>\n",
       "      <td>A broad type for grouping physical and concept...</td>\n",
       "      <td>Gifts, Financial; Image; Product Part</td>\n",
       "      <td>{inverse_isa} Physical Object; {inverse_isa} C...</td>\n",
       "      <td>A</td>\n",
       "      <td>Few concepts will be assigned to this broad type.</td>\n",
       "      <td>enty</td>\n",
       "      <td>NaN</td>\n",
       "      <td>STY</td>\n",
       "      <td>T071</td>\n",
       "    </tr>\n",
       "    <tr>\n",
       "      <td>6</td>\n",
       "      <td>11</td>\n",
       "      <td>2.0</td>\n",
       "      <td>Physical Object</td>\n",
       "      <td>1072</td>\n",
       "      <td>10</td>\n",
       "      <td>Objects</td>\n",
       "      <td>OBJC</td>\n",
       "      <td>An object perceptible to the sense of vision o...</td>\n",
       "      <td>Printed Media; Meteors; Physical object</td>\n",
       "      <td>{isa} Entity; {inverse_isa} Organism; {inverse...</td>\n",
       "      <td>A1</td>\n",
       "      <td>NaN</td>\n",
       "      <td>phob</td>\n",
       "      <td>NaN</td>\n",
       "      <td>STY</td>\n",
       "      <td>T072</td>\n",
       "    </tr>\n",
       "    <tr>\n",
       "      <td>7</td>\n",
       "      <td>111</td>\n",
       "      <td>3.0</td>\n",
       "      <td>Organism</td>\n",
       "      <td>1001</td>\n",
       "      <td>9</td>\n",
       "      <td>Living Beings</td>\n",
       "      <td>LIVE</td>\n",
       "      <td>Generally, a living individual, including all ...</td>\n",
       "      <td>Organism; Infectious agent; Heterotroph</td>\n",
       "      <td>{isa} Physical Object; {inverse_isa} Virus; {i...</td>\n",
       "      <td>A1.1</td>\n",
       "      <td>NaN</td>\n",
       "      <td>orgm</td>\n",
       "      <td>NaN</td>\n",
       "      <td>STY</td>\n",
       "      <td>T001</td>\n",
       "    </tr>\n",
       "    <tr>\n",
       "      <td>8</td>\n",
       "      <td>1111</td>\n",
       "      <td>4.0</td>\n",
       "      <td>Archaeon</td>\n",
       "      <td>1194</td>\n",
       "      <td>9</td>\n",
       "      <td>Living Beings</td>\n",
       "      <td>LIVE</td>\n",
       "      <td>A member of one of the three domains of life, ...</td>\n",
       "      <td>Thermoproteales; Haloferax volcanii; Methanosp...</td>\n",
       "      <td>{isa} Organism</td>\n",
       "      <td>A1.1.1</td>\n",
       "      <td>NaN</td>\n",
       "      <td>arch</td>\n",
       "      <td>NaN</td>\n",
       "      <td>STY</td>\n",
       "      <td>T194</td>\n",
       "    </tr>\n",
       "    <tr>\n",
       "      <td>9</td>\n",
       "      <td>1112</td>\n",
       "      <td>4.0</td>\n",
       "      <td>Bacterium</td>\n",
       "      <td>1007</td>\n",
       "      <td>9</td>\n",
       "      <td>Living Beings</td>\n",
       "      <td>LIVE</td>\n",
       "      <td>A small, typically one-celled, prokaryotic mic...</td>\n",
       "      <td>Acetobacter; Bacillus cereus; Cytophaga</td>\n",
       "      <td>{isa} Organism</td>\n",
       "      <td>A1.1.2</td>\n",
       "      <td>NaN</td>\n",
       "      <td>bact</td>\n",
       "      <td>NaN</td>\n",
       "      <td>STY</td>\n",
       "      <td>T007</td>\n",
       "    </tr>\n",
       "  </tbody>\n",
       "</table>\n",
       "</div>"
      ],
      "text/plain": [
       "   CustomTreeNumber  BranchPosition          SemanticType  UniqueID  \\\n",
       "0                 0             0.0            Unassigned      2000   \n",
       "1                 0             0.0      Website-Specific      2001   \n",
       "2                 0             0.0  Bibliographic Entity      2002   \n",
       "3                 0             0.0    Foreign unresolved      2003   \n",
       "4                 0             0.0            Numeric ID      2004   \n",
       "5                 1             1.0                Entity      1071   \n",
       "6                11             2.0       Physical Object      1072   \n",
       "7               111             3.0              Organism      1001   \n",
       "8              1111             4.0              Archaeon      1194   \n",
       "9              1112             4.0             Bacterium      1007   \n",
       "\n",
       "   SemanticGroupCode         SemanticGroup      SemanticGroupAbr  \\\n",
       "0                 20            Unassigned            Unassigned   \n",
       "1                 21      Website-Specific      Website-Specific   \n",
       "2                 22  Bibliographic Entity  Bibliographic Entity   \n",
       "3                 23    Foreign unresolved    Foreign unresolved   \n",
       "4                 24            Numeric ID            Numeric ID   \n",
       "5                 10               Objects                  OBJC   \n",
       "6                 10               Objects                  OBJC   \n",
       "7                  9         Living Beings                  LIVE   \n",
       "8                  9         Living Beings                  LIVE   \n",
       "9                  9         Living Beings                  LIVE   \n",
       "\n",
       "                                          Definition  \\\n",
       "0                                                NaN   \n",
       "1                                                NaN   \n",
       "2                                                NaN   \n",
       "3                                                NaN   \n",
       "4                                                NaN   \n",
       "5  A broad type for grouping physical and concept...   \n",
       "6  An object perceptible to the sense of vision o...   \n",
       "7  Generally, a living individual, including all ...   \n",
       "8  A member of one of the three domains of life, ...   \n",
       "9  A small, typically one-celled, prokaryotic mic...   \n",
       "\n",
       "                                            Examples  \\\n",
       "0                                                NaN   \n",
       "1                                                NaN   \n",
       "2                                                NaN   \n",
       "3                                                NaN   \n",
       "4                                                NaN   \n",
       "5              Gifts, Financial; Image; Product Part   \n",
       "6            Printed Media; Meteors; Physical object   \n",
       "7            Organism; Infectious agent; Heterotroph   \n",
       "8  Thermoproteales; Haloferax volcanii; Methanosp...   \n",
       "9            Acetobacter; Bacillus cereus; Cytophaga   \n",
       "\n",
       "                                        RelationName SemTypeTreeNo  \\\n",
       "0                                                NaN           NaN   \n",
       "1                                                NaN           NaN   \n",
       "2                                                NaN           NaN   \n",
       "3                                                NaN           NaN   \n",
       "4                                                NaN           NaN   \n",
       "5  {inverse_isa} Physical Object; {inverse_isa} C...             A   \n",
       "6  {isa} Entity; {inverse_isa} Organism; {inverse...            A1   \n",
       "7  {isa} Physical Object; {inverse_isa} Virus; {i...          A1.1   \n",
       "8                                     {isa} Organism        A1.1.1   \n",
       "9                                     {isa} Organism        A1.1.2   \n",
       "\n",
       "                                           UsageNote Abbreviation  \\\n",
       "0                                                NaN          NaN   \n",
       "1                                                NaN          NaN   \n",
       "2                                                NaN          NaN   \n",
       "3                                                NaN          NaN   \n",
       "4                                                NaN          NaN   \n",
       "5  Few concepts will be assigned to this broad type.         enty   \n",
       "6                                                NaN         phob   \n",
       "7                                                NaN         orgm   \n",
       "8                                                NaN         arch   \n",
       "9                                                NaN         bact   \n",
       "\n",
       "  NonHumanFlag RecordType   TUI  \n",
       "0          NaN        NaN   NaN  \n",
       "1          NaN        NaN   NaN  \n",
       "2          NaN        NaN  T301  \n",
       "3          NaN        NaN   NaN  \n",
       "4          NaN        NaN  T302  \n",
       "5          NaN        STY  T071  \n",
       "6          NaN        STY  T072  \n",
       "7          NaN        STY  T001  \n",
       "8          NaN        STY  T194  \n",
       "9          NaN        STY  T007  "
      ]
     },
     "execution_count": 25,
     "metadata": {},
     "output_type": "execute_result"
    }
   ],
   "source": [
    "st2grp_mapping_df.head(10)"
   ]
  },
  {
   "cell_type": "markdown",
   "metadata": {},
   "source": [
    "Doing the mapping by looking up the semantic types in the table to get their corresponding semantic group"
   ]
  },
  {
   "cell_type": "code",
   "execution_count": 26,
   "metadata": {},
   "outputs": [],
   "source": [
    "for index, row in sum_sorted.iterrows():\n",
    "    sum_sorted.loc[index, 'group'] = st2grp_mapping_df[st2grp_mapping_df['SemanticType'].str.contains(row['name'])].iloc[0]['SemanticGroup']"
   ]
  },
  {
   "cell_type": "code",
   "execution_count": 27,
   "metadata": {},
   "outputs": [
    {
     "data": {
      "text/html": [
       "<div>\n",
       "<style scoped>\n",
       "    .dataframe tbody tr th:only-of-type {\n",
       "        vertical-align: middle;\n",
       "    }\n",
       "\n",
       "    .dataframe tbody tr th {\n",
       "        vertical-align: top;\n",
       "    }\n",
       "\n",
       "    .dataframe thead th {\n",
       "        text-align: right;\n",
       "    }\n",
       "</style>\n",
       "<table border=\"1\" class=\"dataframe\">\n",
       "  <thead>\n",
       "    <tr style=\"text-align: right;\">\n",
       "      <th></th>\n",
       "      <th>count</th>\n",
       "      <th>name</th>\n",
       "      <th>group</th>\n",
       "    </tr>\n",
       "    <tr>\n",
       "      <th>UMLS_ST</th>\n",
       "      <th></th>\n",
       "      <th></th>\n",
       "      <th></th>\n",
       "    </tr>\n",
       "  </thead>\n",
       "  <tbody>\n",
       "    <tr>\n",
       "      <td>inpr</td>\n",
       "      <td>20</td>\n",
       "      <td>Intellectual Product</td>\n",
       "      <td>Concepts and Ideas</td>\n",
       "    </tr>\n",
       "    <tr>\n",
       "      <td>mnob</td>\n",
       "      <td>8</td>\n",
       "      <td>Manufactured Object</td>\n",
       "      <td>Objects</td>\n",
       "    </tr>\n",
       "    <tr>\n",
       "      <td>aapp</td>\n",
       "      <td>4</td>\n",
       "      <td>Amino Acid, Peptide, or Protein</td>\n",
       "      <td>Chemicals and Drugs</td>\n",
       "    </tr>\n",
       "    <tr>\n",
       "      <td>orgt</td>\n",
       "      <td>4</td>\n",
       "      <td>Organization</td>\n",
       "      <td>Organizations</td>\n",
       "    </tr>\n",
       "    <tr>\n",
       "      <td>ftcn</td>\n",
       "      <td>3</td>\n",
       "      <td>Functional Concept</td>\n",
       "      <td>Concepts and Ideas</td>\n",
       "    </tr>\n",
       "  </tbody>\n",
       "</table>\n",
       "</div>"
      ],
      "text/plain": [
       "         count                             name                group\n",
       "UMLS_ST                                                             \n",
       "inpr        20             Intellectual Product   Concepts and Ideas\n",
       "mnob         8              Manufactured Object              Objects\n",
       "aapp         4  Amino Acid, Peptide, or Protein  Chemicals and Drugs\n",
       "orgt         4                     Organization        Organizations\n",
       "ftcn         3               Functional Concept   Concepts and Ideas"
      ]
     },
     "execution_count": 27,
     "metadata": {},
     "output_type": "execute_result"
    }
   ],
   "source": [
    "sum_sorted.head()"
   ]
  },
  {
   "cell_type": "markdown",
   "metadata": {},
   "source": [
    "# Plotting Semantic Groups counts "
   ]
  },
  {
   "cell_type": "code",
   "execution_count": 28,
   "metadata": {},
   "outputs": [],
   "source": [
    "groups = sum_sorted.groupby('group')['count'].sum()"
   ]
  },
  {
   "cell_type": "code",
   "execution_count": 29,
   "metadata": {},
   "outputs": [],
   "source": [
    "groups = groups.sort_values(ascending=False)"
   ]
  },
  {
   "cell_type": "code",
   "execution_count": 30,
   "metadata": {},
   "outputs": [
    {
     "data": {
      "text/plain": [
       "group\n",
       "Concepts and Ideas               34\n",
       "Chemicals and Drugs              11\n",
       "Objects                           9\n",
       "Organizations                     7\n",
       "Living Beings                     5\n",
       "Procedures                        3\n",
       "Occupations                       3\n",
       "Physiology                        2\n",
       "Genes and Molecular Sequences     2\n",
       "Activities and Behaviors          2\n",
       "Phenomena                         1\n",
       "Geographic Areas                  1\n",
       "Disorders                         1\n",
       "Devices                           1\n",
       "Name: count, dtype: int64"
      ]
     },
     "execution_count": 30,
     "metadata": {},
     "output_type": "execute_result"
    }
   ],
   "source": [
    "groups"
   ]
  },
  {
   "cell_type": "code",
   "execution_count": 31,
   "metadata": {},
   "outputs": [
    {
     "data": {
      "image/png": "[encoded data removed]",
      "text/plain": [
       "<Figure size 504x864 with 1 Axes>"
      ]
     },
     "metadata": {},
     "output_type": "display_data"
    }
   ],
   "source": [
    "fig, ax = plt.subplots(figsize=(7,12))\n",
    "groups.plot(kind='barh', x='name', y='count', legend = False, ax=ax)\n",
    "ax.set_xlabel('Count')\n",
    "ax.set_ylabel('UMLS Semantic Group')\n",
    "ax.invert_yaxis()\n",
    "ax.set(title='UMLS Groups represented in search queries\\n');"
   ]
  },
  {
   "cell_type": "markdown",
   "metadata": {},
   "source": [
    "# Saving UMLS Semantic Group frequency table to file\n",
    "\n",
    "The output will be a simple CSV file that can be used for additional post-processing."
   ]
  },
  {
   "cell_type": "code",
   "execution_count": 32,
   "metadata": {},
   "outputs": [],
   "source": [
    "groups.to_frame().to_csv(SGoutput_file)"
   ]
  },
  {
   "cell_type": "markdown",
   "metadata": {},
   "source": [
    "The output format is:\n",
    "```\n",
    "group, count\n",
    "<UMLS group name>, <count>\n",
    "<UMLS group name>, <count>\n",
    "...\n",
    "```"
   ]
  },
  {
   "cell_type": "code",
   "execution_count": null,
   "metadata": {},
   "outputs": [],
   "source": []
  }
 ],
 "metadata": {
  "kernelspec": {
   "display_name": "Python 3",
   "language": "python",
   "name": "python3"
  },
  "language_info": {
   "codemirror_mode": {
    "name": "ipython",
    "version": 3
   },
   "file_extension": ".py",
   "mimetype": "text/x-python",
   "name": "python",
   "nbconvert_exporter": "python",
   "pygments_lexer": "ipython3",
   "version": "3.7.4"
  }
 },
 "nbformat": 4,
 "nbformat_minor": 2
}
